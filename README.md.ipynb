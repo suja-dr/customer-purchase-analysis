{
 "cells": [
  {
   "cell_type": "code",
   "execution_count": null,
   "id": "de8b1f18-3a89-48ea-a4da-402e2cac5d88",
   "metadata": {},
   "outputs": [],
   "source": []
  }
 ],
 "metadata": {
  "kernelspec": {
   "display_name": "",
   "name": ""
  },
  "language_info": {
   "name": ""
  }
 },
 "nbformat": 4,
 "nbformat_minor": 5
}
